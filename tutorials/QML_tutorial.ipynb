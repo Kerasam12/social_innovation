{
  "nbformat": 4,
  "nbformat_minor": 0,
  "metadata": {
    "colab": {
      "provenance": []
    },
    "kernelspec": {
      "name": "python3",
      "display_name": "Python 3"
    },
    "language_info": {
      "name": "python"
    }
  },
  "cells": [
    {
      "cell_type": "markdown",
      "source": [
        "##Welcome to our **Hands-on on Quantum Machine Learning** (QML)! 🚀\n",
        "\n",
        "<div style=\"line-height:150%;\">\n",
        "    <br>\n",
        "</div>\n",
        "\n",
        "Access to **github.com/matibilkis/qml-day**\n",
        "\n",
        "➡️ In this tutorial, we will discuss some basics of Quantum Neural Networks (Variational Quantum Algorithms), and our goal is to provide the participant tools and a roadmap to begin her journey on QML! with a strong emphasis on what can be done TODAY  💪\n",
        "\n",
        "<div style=\"line-height:150%;\">\n",
        "    <br>\n",
        "</div>\n",
        "\n",
        "\n",
        "➡️ Moreover, across the tutorial we will provide some useful resources for the curious ones: feel free to navigate them! 🏄 🏄\n",
        "\n",
        "<div style=\"line-height:150%;\">\n",
        "    <br>\n",
        "</div>\n",
        "\n",
        "➡️ Finally, if any of the topics covered either earlier today in the main talks, or in this tutorial resonates to you, <i>feel free to reach out to us</i>, the QML-CVC group!\n",
        "\n",
        "<div style=\"line-height:150%;\">\n",
        "    <br>\n",
        "</div>\n",
        "\n"
      ],
      "metadata": {
        "id": "9n_kdrNMgzd2"
      }
    },
    {
      "cell_type": "markdown",
      "source": [
        "# Quantum computing libraries\n",
        "\n",
        "\n",
        "The last decade has seen a tremendous effort from the research community & industries to put quantum computing forward, making it accesible to anyone who is interested and wants to work on that.\n",
        "\n",
        "On the one hand, we can identify several recent breakthroughs regarding **experimental quantum computing**. Currently, we have *small and noisy* versions of a quantum computer, built using different physical platforms, which are **often available to try out online**! Each quantum computer has its own programming language, among all of them we highlight:\n",
        "\n",
        "\n",
        "\n",
        "*   **Xanadu's PennyLane**. While Xanadu is specialized on photonic quantum computing ([demonstrating experimental quantum advantage](https://www.nature.com/articles/s41586-022-04725-x)! - which stands for having a quantum algorithm able to accomplish a certain task in a way faster than what any other classical computer would do- ), it hosts a very strong *software team* as well, which developed the [PennyLane library](https://pennylane.ai/install/). We will use PennyLane because of its high versatility. Here, the library offers *plugins*, which allow the user to write and execute quantum programs on other devices and quantum programming languages:\n",
        "\n",
        "![](https://uploads-ssl.webflow.com/5f44b6c70fbca212a2676405/605000ee590a0ed69c6ad9c6_Untitled.png)\n",
        "\n",
        "<div style=\"line-height:150%;\">\n",
        "    <br>\n",
        "</div>\n",
        "\n",
        " 🛈 🛈 **If you are interested in finding out more about quantum computing and quantum physics, we highly recommend following PennyLane's [demos](https://pennylane.ai/qml/demonstrations/), [tutorials](https://pennylane.ai/qml/) and [QML-glossary](https://pennylane.ai/qml/glossary/)** 🛈🛈\n",
        "\n",
        "<div style=\"line-height:150%;\">\n",
        "    <br>\n",
        "</div>\n",
        "\n",
        "*   **IBM's Qiskit**. Probably the first company open-sourcing their programming language, building a quantum computer and allowing users to access it on the cloud, IBM offers a powerful framework via [Qiskit](https://qiskit.org/) to control their different devices, all based in [super-conducting qubits](https://pennylane.ai/qml/demos/tutorial_sc_qubits/).\n",
        "\n",
        "\n",
        "![](https://qiskit.org/_ipx/_/images/landing-page/logo_wordmark.svg)\n",
        "\n",
        "\n",
        "<div style=\"line-height:150%;\">\n",
        "    <br>\n",
        "</div>\n",
        "\n",
        "* **Google's Cirq**. The first team claiming a [quantum advantage](https://www.nature.com/articles/s41586-019-1666-5) used the Sycamore 53-qubit chip, which can be controlled using [Cirq](https://quantumai.google/cirq), was the [Google Quantum AI team](https://quantumai.google/). 🚀🚀 Among the many resources they offer, [TensorFlow Quantum](https://www.tensorflow.org/quantum) must be highlighted as the fastest way to train variational quantum circuits which are simulated classically 🚀🚀 (to the best of my knowledge and practice).\n",
        "\n",
        "![](https://encrypted-tbn0.gstatic.com/images?q=tbn:ANd9GcQdaILC_FB2qtjO6BgYiiW2YcCj4O_CtAIrcpjBCevyOEj1NvRg5NkZtGkqIXWfHq86Dw&usqp=CAU)\n",
        "\n",
        "<div style=\"line-height:150%;\">\n",
        "    <br>\n",
        "</div><div style=\"line-height:150%;\">\n",
        "    <br>\n",
        "</div>\n",
        "\n",
        "\n",
        "❔❓**If we can simulate classically a quantum computer, why do we even care about the hardware?** ❔❓"
      ],
      "metadata": {
        "id": "Xg-7pRf4Q8cd"
      }
    },
    {
      "cell_type": "markdown",
      "source": [
        "# Installing PennyLane & Quantum computing basics\n",
        "\n",
        "➡️ In this tutorial We will use the [**PennyLane library**](https://pennylane.ai/).\n",
        "\n",
        "➡️ Installing it is seemingly simple: let's do it!"
      ],
      "metadata": {
        "id": "OCF9rkKTeuHo"
      }
    },
    {
      "cell_type": "code",
      "source": [
        "!pip install pennylane --upgrade\n",
        "import pennylane as qml\n",
        "print(qml.__version__)"
      ],
      "metadata": {
        "colab": {
          "base_uri": "https://localhost:8080/"
        },
        "id": "GDunftFMQia3",
        "outputId": "8e72034f-c626-4cbb-b0b0-f09a64ac5470"
      },
      "execution_count": null,
      "outputs": [
        {
          "output_type": "stream",
          "name": "stdout",
          "text": [
            "Collecting pennylane\n",
            "  Downloading PennyLane-0.34.0-py3-none-any.whl (1.6 MB)\n",
            "\u001b[?25l     \u001b[90m━━━━━━━━━━━━━━━━━━━━━━━━━━━━━━━━━━━━━━━━\u001b[0m \u001b[32m0.0/1.6 MB\u001b[0m \u001b[31m?\u001b[0m eta \u001b[36m-:--:--\u001b[0m\r\u001b[2K     \u001b[91m━━━━\u001b[0m\u001b[91m╸\u001b[0m\u001b[90m━━━━━━━━━━━━━━━━━━━━━━━━━━━━━━━━━━━\u001b[0m \u001b[32m0.2/1.6 MB\u001b[0m \u001b[31m5.6 MB/s\u001b[0m eta \u001b[36m0:00:01\u001b[0m\r\u001b[2K     \u001b[91m━━━━━━━━━━━━━━━━━━━━━━━━━━━━━━━━━━━━━━━\u001b[0m\u001b[91m╸\u001b[0m \u001b[32m1.6/1.6 MB\u001b[0m \u001b[31m23.6 MB/s\u001b[0m eta \u001b[36m0:00:01\u001b[0m\r\u001b[2K     \u001b[90m━━━━━━━━━━━━━━━━━━━━━━━━━━━━━━━━━━━━━━━━\u001b[0m \u001b[32m1.6/1.6 MB\u001b[0m \u001b[31m17.7 MB/s\u001b[0m eta \u001b[36m0:00:00\u001b[0m\n",
            "\u001b[?25hRequirement already satisfied: numpy in /usr/local/lib/python3.10/dist-packages (from pennylane) (1.25.2)\n",
            "Requirement already satisfied: scipy in /usr/local/lib/python3.10/dist-packages (from pennylane) (1.11.4)\n",
            "Requirement already satisfied: networkx in /usr/local/lib/python3.10/dist-packages (from pennylane) (3.2.1)\n",
            "Collecting rustworkx (from pennylane)\n",
            "  Downloading rustworkx-0.14.1-cp310-cp310-manylinux_2_17_x86_64.manylinux2014_x86_64.whl (2.1 MB)\n",
            "\u001b[2K     \u001b[90m━━━━━━━━━━━━━━━━━━━━━━━━━━━━━━━━━━━━━━━━\u001b[0m \u001b[32m2.1/2.1 MB\u001b[0m \u001b[31m64.1 MB/s\u001b[0m eta \u001b[36m0:00:00\u001b[0m\n",
            "\u001b[?25hRequirement already satisfied: autograd in /usr/local/lib/python3.10/dist-packages (from pennylane) (1.6.2)\n",
            "Requirement already satisfied: toml in /usr/local/lib/python3.10/dist-packages (from pennylane) (0.10.2)\n",
            "Requirement already satisfied: appdirs in /usr/local/lib/python3.10/dist-packages (from pennylane) (1.4.4)\n",
            "Collecting semantic-version>=2.7 (from pennylane)\n",
            "  Downloading semantic_version-2.10.0-py2.py3-none-any.whl (15 kB)\n",
            "Collecting autoray>=0.6.1 (from pennylane)\n",
            "  Downloading autoray-0.6.8-py3-none-any.whl (49 kB)\n",
            "\u001b[2K     \u001b[90m━━━━━━━━━━━━━━━━━━━━━━━━━━━━━━━━━━━━━━━━\u001b[0m \u001b[32m49.9/49.9 kB\u001b[0m \u001b[31m5.6 MB/s\u001b[0m eta \u001b[36m0:00:00\u001b[0m\n",
            "\u001b[?25hRequirement already satisfied: cachetools in /usr/local/lib/python3.10/dist-packages (from pennylane) (5.3.2)\n",
            "Collecting pennylane-lightning>=0.34 (from pennylane)\n",
            "  Downloading PennyLane_Lightning-0.34.0-cp310-cp310-manylinux_2_17_x86_64.manylinux2014_x86_64.whl (18.1 MB)\n",
            "\u001b[2K     \u001b[90m━━━━━━━━━━━━━━━━━━━━━━━━━━━━━━━━━━━━━━━━\u001b[0m \u001b[32m18.1/18.1 MB\u001b[0m \u001b[31m45.6 MB/s\u001b[0m eta \u001b[36m0:00:00\u001b[0m\n",
            "\u001b[?25hRequirement already satisfied: requests in /usr/local/lib/python3.10/dist-packages (from pennylane) (2.31.0)\n",
            "Requirement already satisfied: typing-extensions in /usr/local/lib/python3.10/dist-packages (from pennylane) (4.9.0)\n",
            "Requirement already satisfied: future>=0.15.2 in /usr/local/lib/python3.10/dist-packages (from autograd->pennylane) (0.18.3)\n",
            "Requirement already satisfied: charset-normalizer<4,>=2 in /usr/local/lib/python3.10/dist-packages (from requests->pennylane) (3.3.2)\n",
            "Requirement already satisfied: idna<4,>=2.5 in /usr/local/lib/python3.10/dist-packages (from requests->pennylane) (3.6)\n",
            "Requirement already satisfied: urllib3<3,>=1.21.1 in /usr/local/lib/python3.10/dist-packages (from requests->pennylane) (2.0.7)\n",
            "Requirement already satisfied: certifi>=2017.4.17 in /usr/local/lib/python3.10/dist-packages (from requests->pennylane) (2024.2.2)\n",
            "Installing collected packages: semantic-version, rustworkx, autoray, pennylane-lightning, pennylane\n",
            "Successfully installed autoray-0.6.8 pennylane-0.34.0 pennylane-lightning-0.34.0 rustworkx-0.14.1 semantic-version-2.10.0\n",
            "0.34.0\n"
          ]
        }
      ]
    },
    {
      "cell_type": "markdown",
      "source": [
        "👏 We have installed PennyLane, bravo!\n",
        "\n",
        "## We will now revist some basic concepts\n",
        "\n",
        "### Quantum two-level systems (qubit)\n",
        "\n",
        "➡️ Earlier today we introduced quantum two-level systems, which are the **quantum analog of a bit**.\n",
        "<div style=\"line-height:150%;\">\n",
        "    <br>\n",
        "</div>\n",
        "\n",
        "➡️ While a *bit state* (that means, the value that the classical bit has) can be either 0 or 1, quantum physics allows for the possibility of the quantum bit to be in a *superposition* between 0 and 1 🤯 🤯\n",
        "<div style=\"line-height:150%;\">\n",
        "    <br>\n",
        "</div>\n",
        "\n",
        "➡️ While quantum mechanics does not allow any superposition between 0 and 1, we can generally write the state of a qubit as\n",
        "\n",
        "$$\n",
        "|\\psi\\rangle = \\alpha |0\\rangle + \\beta |1\\rangle \\; \\; \\; \\;\\; \\; \\; \\; (*1)\n",
        "$$\n",
        "\n",
        "with $\\alpha$ and $\\beta$ being complex numbers satisfying $|\\alpha|^2 + |\\beta|^2 = 1$. Here, the notation $|\\rangle$ stands for the \"quantum state of\", and we can undertand $|0\\rangle$ as the classical bit $0$, and $|1\\rangle$ as the classical bit 1, but this is a bit subtle, ¿what is 0 and what is 1? ⏱️⏱️ Let's wait a bit until answering such question! ⏱️ ⏱️\n",
        "\n",
        "<div style=\"line-height:150%;\">\n",
        "    <br>\n",
        "</div>\n",
        "\n",
        "➡️ The constrain of Eq. (*1) and other constrain allows us to depict **all possible states of a qubit** in terms of a sphere, known as the [Bloch sphere](https://en.wikipedia.org/wiki/Bloch_sphere), with the parametrization $\\alpha = \\cos (\\theta/2)$ and $\\beta = \\sin(\\theta/2) e^{i \\phi}$.\n",
        "\n",
        "<div style=\"line-height:150%;\">\n",
        "    <br>\n",
        "</div>\n",
        "\n",
        "🤓🤓 *If you wonder which is the other take a look at the [Quantum Computing book by Nielsen & Chuang](https://profmcruz.files.wordpress.com/2017/08/quantum-computation-and-quantum-information-nielsen-chuang.pdf), Section 1.2... this is a great book to use as a reference to dive further in the topic!* 🤓🤓\n",
        "\n",
        "<div style=\"line-height:150%;\">\n",
        "    <br>\n",
        "</div>\n",
        "\n",
        "![](https://raw.githubusercontent.com/matibilkis/qml-day/main/figures/bloch_sphere.png)\n",
        "\n",
        "\n",
        "➡️ Now, a quantum state $|\\psi \\rangle$ can lie on any point of Bloch sphere's  surface, and that quantum state *is quantum information*. Knowing the quantum sate of the system, we can predict anything of the system... or can we ? 🤔 🤔\n",
        "\n",
        "<div style=\"line-height:150%;\">\n",
        "    <br>\n",
        "</div>\n",
        "\n",
        "\n",
        "➡️ Having a quantum system, we would like to ask some questions, in order to extract (classical) information out of it.\n",
        "\n",
        "<div style=\"line-height:150%;\">\n",
        "    <br>\n",
        "</div>\n",
        "\n",
        "⚠️⚠️ ❔❓ **what's the point on extracting information of the quantum state if we already know the quantum state**❔❓ Here, our mindset should be that a quantum computer can prepare a (very complex) quantum state, consisting on many qubits, and whose coefficients ($\\alpha$, $\\beta$ and exponentially many others!) are unavailable to us: we can only *ask questions* (e.g. **measure** the quantum state) to get information out of it. Potentially, this information would encode the solution of a problem we want to solve (such as generating a new image, or estimating the coefficients of a quantum state after some evolution time). If you want to explore possible applications & algorithms of a quantum computer, you can take a look at this [recent survey](https://arxiv.org/abs/2310.03011) ⚠️⚠️\n",
        "\n",
        "<div style=\"line-height:150%;\">\n",
        "    <br>\n",
        "</div>\n",
        "\n",
        "### Measurements\n",
        "\n",
        "➡️ Thus, asking questions in quantum physics is equivalent to **measure a quantum system**, and it should be clear by now that measuring in quantum physics is a subtle concept.  Let's assume that we fix the 🔍📏*measurement direction*📏🔍: **We will measure the M-property**, which corresponds to fixing a line on the Bloch Sphere: for example it can be measure over the *z*-axis, or *x*-axis, or any arbitrray axis that we choose!\n",
        "\n",
        "<div style=\"line-height:150%;\">\n",
        "    <br>\n",
        "</div>\n",
        "\n",
        "\n",
        "➡️ Physically, we say that we prepare a quantum state $| \\psi \\rangle$, and then we measure its **M-property**. Once the measurement is carried out, we obtain a *classical outcome*, which is either $0_M$ or $1_M$. Then, **the quantum state after the measurement collapses to a new state, which is either** $|0_M\\rangle$ or $|1_M\\rangle$ depending on the outcome obtained, and thus the initial *quantum information* is lost. This consititues a *single* experiment, and in general we would like to do *many* experiments, to estimate the **M-property** of the quantum system $|\\psi\\rangle$ as accurately as possible. 🔬🔬\n",
        "\n",
        "![](https://miro.medium.com/v2/resize:fit:823/1*wEVOl6Cqr7_JtyfXcQCezQ.png)\n",
        "\n",
        "<div style=\"line-height:150%;\">\n",
        "    <br>\n",
        "</div>\n",
        "\n",
        "\n",
        "➡️ Let's write down our quantum state:\n",
        "\n",
        "$$\n",
        "|\\psi\\rangle = \\alpha |0\\rangle + \\beta |1\\rangle \\; \\; \\; \\;\\; \\; \\; \\; (*1)\n",
        "$$\n",
        "\n",
        "✨✨ By convention, we understand that $|0\\rangle = |0_z\\rangle$ and that $|1 \\rangle = |1_z\\rangle $.\n",
        "\n",
        "<div style=\"line-height:150%;\">\n",
        "    <br>\n",
        "</div>\n",
        "\n",
        "\n",
        "🎲🎲 If we decided to measure the *z*-property, then we will get an \"outcome 0\" with *probability* $|\\alpha|^2$, or an \"outcome 1\" with probability $|\\beta|^2$. Be aware that this probabilities might be very different if we wanted to measure a different property! For example, the *x*-property.\n",
        "\n",
        "✅ We can readily note that *if there is not quantum superposition*, then the measurement results will always be determinsitic, and the same! (according to the direction we measure, here the *z*-property).\n",
        "\n",
        "❔❓**Can you figure out which are the two cases in which there is no quantum superposition for the z-property?**❔❓\n",
        "\n",
        "<div style=\"line-height:150%;\">\n",
        "    <br>\n",
        "</div>\n",
        "\n",
        "### Evolution\n",
        "\n",
        "➡️ Before jumping to the code, let's discuss how to *move* from one quantum state to another one. Physically, this is related to a time-evolution, which we will not discuss now (but you can read it in [Section 2.2.2. of Nielsen & Chuang book](https://profmcruz.files.wordpress.com/2017/08/quantum-computation-and-quantum-information-nielsen-chuang.pdf), where the famous Schrödinger equation is discussed).\n",
        "\n",
        "<div style=\"line-height:150%;\">\n",
        "    <br>\n",
        "</div>\n",
        "\n",
        "➡️ In the case of qubits that we are discussing here (for the more experienced reader, we are discussing only the case of *pure states*), the possible quantum states correspond to points lying on the surface of the Bloch sphere. As such, we can move from one point to another by means of a **rotation**. A rotation is thus parametrized by an axis (about which the transformation rotates the arrow pointing from the sphere's center towards the dot lying on the surface and representing the quantum state), and an angle, which stands for the rotation value.\n",
        "\n",
        "<div style=\"line-height:150%;\">\n",
        "    <br>\n",
        "</div>\n",
        "\n",
        "➡️ Any rotation in three dimensions can be parametrized by three fundamental rotations with specific angles, and this decomposition is known as the [Euler rotation](https://en.wikipedia.org/wiki/Euler_angles).\n",
        "\n",
        "<div style=\"line-height:150%;\">\n",
        "    <br>\n",
        "</div>\n",
        "\n",
        "🔧 In a quantum computer, we can easily impement rotations around $x$-axis, $z$-axis or $y$-axis$ with any angle. If you want to get some intuition on the actions of this rotations, check out [this visualization](https://bloch.kherb.io/)!\n",
        "\n",
        "<div style=\"line-height:150%;\">\n",
        "    <br>\n",
        "</div>\n",
        "\n",
        "🔧 Initially, the quantum state of the computer is set to be $|0\\rangle$ in all qubits, and a *transformation* is applied to it in order to take it to some target state $|\\psi \\rangle$\n",
        "\n",
        "<div style=\"line-height:150%;\">\n",
        "    <br>\n",
        "</div>\n",
        "\n",
        "🎉 It is now time to try all this out in a simulated one-qubit quantum computer, using PennyLane!\n",
        "\n"
      ],
      "metadata": {
        "id": "KnvFudsGfGLt"
      }
    },
    {
      "cell_type": "markdown",
      "source": [
        "# Using PennyLane\n",
        "\n"
      ],
      "metadata": {
        "id": "vfziT-5_8MvC"
      }
    },
    {
      "cell_type": "code",
      "source": [
        "import matplotlib.pyplot as plt\n",
        "\n",
        "import pennylane as qml\n",
        "from pennylane import numpy as np #This is actually important, since numpy is embedded in PennyLane"
      ],
      "metadata": {
        "id": "jL5dbjLTV0DR"
      },
      "execution_count": null,
      "outputs": []
    },
    {
      "cell_type": "markdown",
      "source": [
        "🧩 In PennyLane, we can easily construct *quantum circuits* by defining them in a function, and using the **qnode()** decorator. Here, we need to specify the number of *wires*, which mean the number of qubits in the circuit (this is because PennyLane is way more than qubit-quantum computing). For the moment, we will restrict to one.\n",
        "\n",
        "<div style=\"line-height:150%;\">\n",
        "    <br>\n",
        "</div>\n",
        "\n",
        "\n",
        "🧩 Such qnode associates the quantum circuit to a physical (or simulated) quantum device; such can be IBM's quantum computer, or the classical simulator used by PennyLane, with some backend. There are many options and you can explore them 🔬 [here](https://pennylane.ai/plugins/)🔬.\n",
        "<div style=\"line-height:150%;\">\n",
        "    <br>\n",
        "</div>\n",
        "\n",
        "➡️ A *quantum circuit* consists on a series of *quantum instructions*. Each instruction is a **quantum gate**, and there are 🫨many quantum gates [out there](https://docs.pennylane.ai/en/stable/introduction/operations.html)🫨. However, you shouldn't worry too much: for now, we will only use a few of them.\n",
        "<div style=\"line-height:150%;\">\n",
        "    <br>\n",
        "</div>\n",
        "\n",
        "➡️ The output of our circuit is associated to a measurement outcome. In this regard, PennyLane is quite versatil (have a look at all possible outcomes that the library allows [here](https://docs.pennylane.ai/en/stable/introduction/measurements.html))! We will explore two of them: *(i)* sample, which provides measurement samples of the quantum experiment and *(ii)* expval, which directly computes the expected value of the *property* we are measuring.\n",
        "<div style=\"line-height:150%;\">\n",
        "    <br>\n",
        "</div>\n",
        "\n",
        "🤓🤓 Such properties are actually called [*observables*](https://en.wikipedia.org/wiki/Observable), and you can have a full list of supported observables in PennyLane [here (see observables section about the end of the page)](https://docs.pennylane.ai/en/stable/introduction/operations.html). 🤓🤓\n",
        "<div style=\"line-height:150%;\">\n",
        "    <br>\n",
        "</div>\n",
        "\n",
        "\n",
        "➡️ Actually, we have already seen examples of quantum gates! Can you guess which? Exactly! **Rotations**. We will implement a *parametrized circuit*, which rotates the initial state of the qubit, $|0\\rangle$ first around the $x$-axis and then around the $z$-axis. **Importantly**, the rotation values will be the input of our circuit; this will play an important role when discussing quantum neural networks (or variational quantum algorithms) 😉 😉\n"
      ],
      "metadata": {
        "id": "h8Xp5udt7jc6"
      }
    },
    {
      "cell_type": "markdown",
      "source": [
        "### Sampling\n",
        "\n",
        "🎲🎲 Let us know write some code that allows us to sample the '$z$-property' from the quantum state *we prepare*. We will set the value of *shots* to 1000, which means that the experiment (preparing the state $|0\\rangle$, applying the rotations with the specified angle, and measuring the $z$-property) is being repeated 1000 times 🤯 Indeed, this is something admitedly *easy* to do experimentally, and pretty fast!\n",
        "\n",
        "<div style=\"line-height:150%;\">\n",
        "    <br>\n",
        "</div>\n",
        "\n",
        "🔔📣 **Technical remark:** we will use the PauliZ observable, which is the physical version of the $z$-property. They are equivalent up to the mapping 0 ➡️ 1 and -1 ➡️ 0 🔔📣.\n"
      ],
      "metadata": {
        "id": "MQCNaxvGCO14"
      }
    },
    {
      "cell_type": "code",
      "source": [
        "dev = qml.device(\"default.qubit\", wires=1, shots=1000)\n",
        "@qml.qnode(dev)\n",
        "def circuit(params):\n",
        "    qml.RX(params[0],wires=0)\n",
        "    qml.RZ(params[1], wires=0)\n",
        "    return qml.sample(qml.PauliZ(0))"
      ],
      "metadata": {
        "id": "3Rs84Rcm1rzn"
      },
      "execution_count": null,
      "outputs": []
    },
    {
      "cell_type": "markdown",
      "source": [
        "✏️ First of all, let's visualize the circuit, thorugh the [qml.draw](https://docs.pennylane.ai/en/stable/code/api/pennylane.draw.html) module:"
      ],
      "metadata": {
        "id": "ieKVi73QHu4I"
      }
    },
    {
      "cell_type": "code",
      "source": [
        "drawer = qml.draw(circuit)\n",
        "print(drawer(['angle 1', 'angle 2']))"
      ],
      "metadata": {
        "colab": {
          "base_uri": "https://localhost:8080/"
        },
        "id": "egLh0l2KHimd",
        "outputId": "f99a6a7a-32a6-4a8f-c1cf-b758996eb2b3"
      },
      "execution_count": null,
      "outputs": [
        {
          "output_type": "stream",
          "name": "stdout",
          "text": [
            "0: ──RX(angle 1)──RZ(angle 2)─┤  Sample[Z]\n"
          ]
        }
      ]
    },
    {
      "cell_type": "markdown",
      "source": [
        "➡️ Recalling that the initial quantum state is $|0\\rangle$ (whose $z$-property points up, towards $+1$), can you guess what happens if we set the rotation angles to zero?"
      ],
      "metadata": {
        "id": "uAVSIyDKG6nl"
      }
    },
    {
      "cell_type": "code",
      "source": [
        "circuit([0., 0.])"
      ],
      "metadata": {
        "colab": {
          "base_uri": "https://localhost:8080/"
        },
        "id": "-jyQ1yPLQR7v",
        "outputId": "cda78358-b8fc-4116-90be-2de09ee5feee"
      },
      "execution_count": null,
      "outputs": [
        {
          "output_type": "execute_result",
          "data": {
            "text/plain": [
              "array([1, 1, 1, 1, 1, 1, 1, 1, 1, 1, 1, 1, 1, 1, 1, 1, 1, 1, 1, 1, 1, 1,\n",
              "       1, 1, 1, 1, 1, 1, 1, 1, 1, 1, 1, 1, 1, 1, 1, 1, 1, 1, 1, 1, 1, 1,\n",
              "       1, 1, 1, 1, 1, 1, 1, 1, 1, 1, 1, 1, 1, 1, 1, 1, 1, 1, 1, 1, 1, 1,\n",
              "       1, 1, 1, 1, 1, 1, 1, 1, 1, 1, 1, 1, 1, 1, 1, 1, 1, 1, 1, 1, 1, 1,\n",
              "       1, 1, 1, 1, 1, 1, 1, 1, 1, 1, 1, 1, 1, 1, 1, 1, 1, 1, 1, 1, 1, 1,\n",
              "       1, 1, 1, 1, 1, 1, 1, 1, 1, 1, 1, 1, 1, 1, 1, 1, 1, 1, 1, 1, 1, 1,\n",
              "       1, 1, 1, 1, 1, 1, 1, 1, 1, 1, 1, 1, 1, 1, 1, 1, 1, 1, 1, 1, 1, 1,\n",
              "       1, 1, 1, 1, 1, 1, 1, 1, 1, 1, 1, 1, 1, 1, 1, 1, 1, 1, 1, 1, 1, 1,\n",
              "       1, 1, 1, 1, 1, 1, 1, 1, 1, 1, 1, 1, 1, 1, 1, 1, 1, 1, 1, 1, 1, 1,\n",
              "       1, 1, 1, 1, 1, 1, 1, 1, 1, 1, 1, 1, 1, 1, 1, 1, 1, 1, 1, 1, 1, 1,\n",
              "       1, 1, 1, 1, 1, 1, 1, 1, 1, 1, 1, 1, 1, 1, 1, 1, 1, 1, 1, 1, 1, 1,\n",
              "       1, 1, 1, 1, 1, 1, 1, 1, 1, 1, 1, 1, 1, 1, 1, 1, 1, 1, 1, 1, 1, 1,\n",
              "       1, 1, 1, 1, 1, 1, 1, 1, 1, 1, 1, 1, 1, 1, 1, 1, 1, 1, 1, 1, 1, 1,\n",
              "       1, 1, 1, 1, 1, 1, 1, 1, 1, 1, 1, 1, 1, 1, 1, 1, 1, 1, 1, 1, 1, 1,\n",
              "       1, 1, 1, 1, 1, 1, 1, 1, 1, 1, 1, 1, 1, 1, 1, 1, 1, 1, 1, 1, 1, 1,\n",
              "       1, 1, 1, 1, 1, 1, 1, 1, 1, 1, 1, 1, 1, 1, 1, 1, 1, 1, 1, 1, 1, 1,\n",
              "       1, 1, 1, 1, 1, 1, 1, 1, 1, 1, 1, 1, 1, 1, 1, 1, 1, 1, 1, 1, 1, 1,\n",
              "       1, 1, 1, 1, 1, 1, 1, 1, 1, 1, 1, 1, 1, 1, 1, 1, 1, 1, 1, 1, 1, 1,\n",
              "       1, 1, 1, 1, 1, 1, 1, 1, 1, 1, 1, 1, 1, 1, 1, 1, 1, 1, 1, 1, 1, 1,\n",
              "       1, 1, 1, 1, 1, 1, 1, 1, 1, 1, 1, 1, 1, 1, 1, 1, 1, 1, 1, 1, 1, 1,\n",
              "       1, 1, 1, 1, 1, 1, 1, 1, 1, 1, 1, 1, 1, 1, 1, 1, 1, 1, 1, 1, 1, 1,\n",
              "       1, 1, 1, 1, 1, 1, 1, 1, 1, 1, 1, 1, 1, 1, 1, 1, 1, 1, 1, 1, 1, 1,\n",
              "       1, 1, 1, 1, 1, 1, 1, 1, 1, 1, 1, 1, 1, 1, 1, 1, 1, 1, 1, 1, 1, 1,\n",
              "       1, 1, 1, 1, 1, 1, 1, 1, 1, 1, 1, 1, 1, 1, 1, 1, 1, 1, 1, 1, 1, 1,\n",
              "       1, 1, 1, 1, 1, 1, 1, 1, 1, 1, 1, 1, 1, 1, 1, 1, 1, 1, 1, 1, 1, 1,\n",
              "       1, 1, 1, 1, 1, 1, 1, 1, 1, 1, 1, 1, 1, 1, 1, 1, 1, 1, 1, 1, 1, 1,\n",
              "       1, 1, 1, 1, 1, 1, 1, 1, 1, 1, 1, 1, 1, 1, 1, 1, 1, 1, 1, 1, 1, 1,\n",
              "       1, 1, 1, 1, 1, 1, 1, 1, 1, 1, 1, 1, 1, 1, 1, 1, 1, 1, 1, 1, 1, 1,\n",
              "       1, 1, 1, 1, 1, 1, 1, 1, 1, 1, 1, 1, 1, 1, 1, 1, 1, 1, 1, 1, 1, 1,\n",
              "       1, 1, 1, 1, 1, 1, 1, 1, 1, 1, 1, 1, 1, 1, 1, 1, 1, 1, 1, 1, 1, 1,\n",
              "       1, 1, 1, 1, 1, 1, 1, 1, 1, 1, 1, 1, 1, 1, 1, 1, 1, 1, 1, 1, 1, 1,\n",
              "       1, 1, 1, 1, 1, 1, 1, 1, 1, 1, 1, 1, 1, 1, 1, 1, 1, 1, 1, 1, 1, 1,\n",
              "       1, 1, 1, 1, 1, 1, 1, 1, 1, 1, 1, 1, 1, 1, 1, 1, 1, 1, 1, 1, 1, 1,\n",
              "       1, 1, 1, 1, 1, 1, 1, 1, 1, 1, 1, 1, 1, 1, 1, 1, 1, 1, 1, 1, 1, 1,\n",
              "       1, 1, 1, 1, 1, 1, 1, 1, 1, 1, 1, 1, 1, 1, 1, 1, 1, 1, 1, 1, 1, 1,\n",
              "       1, 1, 1, 1, 1, 1, 1, 1, 1, 1, 1, 1, 1, 1, 1, 1, 1, 1, 1, 1, 1, 1,\n",
              "       1, 1, 1, 1, 1, 1, 1, 1, 1, 1, 1, 1, 1, 1, 1, 1, 1, 1, 1, 1, 1, 1,\n",
              "       1, 1, 1, 1, 1, 1, 1, 1, 1, 1, 1, 1, 1, 1, 1, 1, 1, 1, 1, 1, 1, 1,\n",
              "       1, 1, 1, 1, 1, 1, 1, 1, 1, 1, 1, 1, 1, 1, 1, 1, 1, 1, 1, 1, 1, 1,\n",
              "       1, 1, 1, 1, 1, 1, 1, 1, 1, 1, 1, 1, 1, 1, 1, 1, 1, 1, 1, 1, 1, 1,\n",
              "       1, 1, 1, 1, 1, 1, 1, 1, 1, 1, 1, 1, 1, 1, 1, 1, 1, 1, 1, 1, 1, 1,\n",
              "       1, 1, 1, 1, 1, 1, 1, 1, 1, 1, 1, 1, 1, 1, 1, 1, 1, 1, 1, 1, 1, 1,\n",
              "       1, 1, 1, 1, 1, 1, 1, 1, 1, 1, 1, 1, 1, 1, 1, 1, 1, 1, 1, 1, 1, 1,\n",
              "       1, 1, 1, 1, 1, 1, 1, 1, 1, 1, 1, 1, 1, 1, 1, 1, 1, 1, 1, 1, 1, 1,\n",
              "       1, 1, 1, 1, 1, 1, 1, 1, 1, 1, 1, 1, 1, 1, 1, 1, 1, 1, 1, 1, 1, 1,\n",
              "       1, 1, 1, 1, 1, 1, 1, 1, 1, 1])"
            ]
          },
          "metadata": {},
          "execution_count": 6
        }
      ]
    },
    {
      "cell_type": "markdown",
      "source": [
        "➡️ Okay, hopefully you got \"+1\" result for a thousand times. As a matter of fact, the state we are preparing (if setting the angles to zero), is *not* in a quantum superposition with respect to the states $|0_z\\rangle$ and $|1_z\\rangle$. Indeed, it is the same state, $|0\\rangle$. Let's see what happens if we now set a different angle (we will study the expected value so it's easier to visualize).\n",
        "\n",
        "<div style=\"line-height:150%;\">\n",
        "    <br>\n",
        "</div>\n",
        "➡️ Let's first rotate around an angle of $\\pi /2$ over the $x$-axis.\n",
        "\n",
        "<div style=\"line-height:150%;\">\n",
        "    <br>\n",
        "</div>\n",
        "➡️ Let's then try increasing such angle to $\\pi2$, again over the $x$-axis.\n",
        "<div style=\"line-height:150%;\">\n",
        "    <br>\n",
        "</div>\n",
        "\n",
        " ❔❓  **Can you explain what happens in terms of the Bloch-sphere?**  ❔❓"
      ],
      "metadata": {
        "id": "6MOfkxxhHRl7"
      }
    },
    {
      "cell_type": "code",
      "source": [
        "samples = circuit([np.pi/2, 0.])\n",
        "print(\"mean value over 1000 samples: {}\".format(np.mean(samples))+\"\\n\"*2)\n",
        "plt.figure()\n",
        "ax=plt.subplot()\n",
        "ax.hist(samples,bins=2, edgecolor='black', linewidth=1.3)\n",
        "print(\"some samples: \",samples[:10])\n"
      ],
      "metadata": {
        "id": "DyPkWhzGQSek",
        "colab": {
          "base_uri": "https://localhost:8080/",
          "height": 499
        },
        "outputId": "a191fb77-7897-4cec-dbb4-2122e6ec2323"
      },
      "execution_count": null,
      "outputs": [
        {
          "output_type": "stream",
          "name": "stdout",
          "text": [
            "mean value over 1000 samples: 0.002\n",
            "\n",
            "\n",
            "some samples:  [-1  1  1 -1 -1 -1 -1  1 -1  1]\n"
          ]
        },
        {
          "output_type": "display_data",
          "data": {
            "text/plain": [
              "<Figure size 640x480 with 1 Axes>"
            ],
            "image/png": "[encoded data removed]"
          },
          "metadata": {}
        }
      ]
    },
    {
      "cell_type": "code",
      "source": [
        "samples = circuit([np.pi, 0.])\n",
        "print(\"mean value over 1000 samples: {}\".format(np.mean(samples))+\"\\n\"*2)\n",
        "plt.figure()\n",
        "ax=plt.subplot()\n",
        "ax.hist(samples,bins=2,color=\"red\", edgecolor='black', linewidth=1.3)\n",
        "\n",
        "print(\"some samples: \",samples[:10])"
      ],
      "metadata": {
        "id": "3qP7DzXgQSlZ",
        "colab": {
          "base_uri": "https://localhost:8080/",
          "height": 499
        },
        "outputId": "4fde2374-d4c1-4157-f3b1-3b391878a19f"
      },
      "execution_count": null,
      "outputs": [
        {
          "output_type": "stream",
          "name": "stdout",
          "text": [
            "mean value over 1000 samples: -1.0\n",
            "\n",
            "\n",
            "some samples:  [-1 -1 -1 -1 -1 -1 -1 -1 -1 -1]\n"
          ]
        },
        {
          "output_type": "display_data",
          "data": {
            "text/plain": [
              "<Figure size 640x480 with 1 Axes>"
            ],
            "image/png": "[encoded data removed]"
          },
          "metadata": {}
        }
      ]
    },
    {
      "cell_type": "markdown",
      "source": [
        "### Expected values\n",
        "\n",
        "➡️ If we now ask PennyLane to output the expected value of the property (observable), we do not need to average out over many samples (each obtained by a different experiment).\n",
        "\n",
        "<div style=\"line-height:150%;\">\n",
        "    <br>\n",
        "</div>\n",
        "\n",
        "⚠️⚠️ **However, that this is a shortcut for simulation purposes: using a real quantum computer implies repeating the experiment many times in order to <u>estimate</u> the expected value of these observables.** ⚠️⚠️"
      ],
      "metadata": {
        "id": "H4ditRJNNqln"
      }
    },
    {
      "cell_type": "code",
      "source": [
        "dev = qml.device(\"default.qubit\", wires=1)\n",
        "\n",
        "@qml.qnode(dev)\n",
        "def circuit(params):\n",
        "    qml.RX(params[0],wires=0)\n",
        "    qml.RZ(params[1], wires=0)\n",
        "    return qml.expval(qml.PauliX(0))"
      ],
      "metadata": {
        "id": "qsqYZT1sQSot"
      },
      "execution_count": null,
      "outputs": []
    },
    {
      "cell_type": "code",
      "source": [
        "angles = [[0,0], [np.pi/2, 0], [np.pi/2, np.pi/2], [np.pi,0], [np.pi, np.pi]]\n",
        "for params in angles:\n",
        "  print(\"angles: {}, circuit's output:{} \\n\".format(params, circuit(params)))"
      ],
      "metadata": {
        "id": "omJfVNosQSsO",
        "colab": {
          "base_uri": "https://localhost:8080/"
        },
        "outputId": "a0aadf3f-601c-4d6e-9a81-942df34b45fe"
      },
      "execution_count": null,
      "outputs": [
        {
          "output_type": "stream",
          "name": "stdout",
          "text": [
            "angles: [0, 0], circuit's output:1.0 \n",
            "\n",
            "angles: [1.5707963267948966, 0], circuit's output:2.220446049250313e-16 \n",
            "\n",
            "angles: [1.5707963267948966, 1.5707963267948966], circuit's output:2.220446049250313e-16 \n",
            "\n",
            "angles: [3.141592653589793, 0], circuit's output:-1.0 \n",
            "\n",
            "angles: [3.141592653589793, 3.141592653589793], circuit's output:-1.0 \n",
            "\n"
          ]
        }
      ]
    },
    {
      "cell_type": "markdown",
      "source": [
        "### Two-qubit circuits\n",
        "\n",
        "➡️The last ingredient we are missing to jump to the action 🤠🤠 is the CNOT gate, which generates quantum correlations between two qubits.\n",
        "\n",
        "<div style=\"line-height:150%;\">\n",
        "    <br>\n",
        "</div>\n",
        "➡️Such gate can be implemented in PennyLane via *qml.CNOT(wires=[control,target])*.\n",
        "\n",
        "<div style=\"line-height:150%;\">\n",
        "    <br>\n",
        "</div>\n",
        "➡️➡️ **It is worthy to mention that when increasing the number of qubits, the dimension of the space required to describe the system doubles.** Do you now get why classical simulation is not feasible for a sufficiently large number of qubits? Currently, the world record of classical simulation of quantum circuits (without imposing any symmetry) [is 36 qubits](https://www.theregister.com/2022/03/31/fujitsu_claims_worlds_fastest_36/), whose *Hilbert space* is $2^{36}$! 🤯🤯\n",
        "\n",
        "<div style=\"line-height:150%;\">\n",
        "    <br>\n",
        "</div>\n",
        "🤓🤓If you are curious on multiple-qubit circuits, quantum correlations and beyond, we recommend following [this qiskit demo](https://learn.qiskit.org/course/ch-gates/multiple-qubits-and-entangled-states) 🤓🤓."
      ],
      "metadata": {
        "id": "cztv00zvRysC"
      }
    },
    {
      "cell_type": "markdown",
      "source": [
        "# Quantum neural networks\n",
        "\n",
        "We will now discuss Variational Quantum Algorithms, which are also known under the 🫠(probably unfortunate)🫠 name of quantum neural networks.\n",
        "<div style=\"line-height:150%;\">\n",
        "    <br>\n",
        "</div>\n",
        "\n",
        "![](https://quantum-journal.org/wp-content/uploads/2019/10/1812.08767v4-1.png)\n",
        "\n",
        "<div style=\"line-height:150%;\">\n",
        "    <br>\n",
        "</div>\n",
        "\n",
        "🔵 As we can see in the figure, VQAs are an hybrid classical-quantum scheme. We can identify the following building-blocks of a VQA:\n",
        "\n",
        "<div style=\"line-height:150%;\">\n",
        "    <br>\n",
        "</div>\n",
        "\n",
        "➡️ A quantum circuit🗝️ is used to estimate some properties of a quantum state (e.g. expected values of observables).\n",
        "\n",
        "<div style=\"line-height:150%;\">\n",
        "    <br>\n",
        "</div>\n",
        "\n",
        "➡️ This defines a *cost function*, whose value is aimed to be minimized.\n",
        "\n",
        "<div style=\"line-height:150%;\">\n",
        "    <br>\n",
        "</div>\n",
        "\n",
        "➡️ To this end, a classical optimization algorithm is used to 🔧 🔧 tweak the circuit parameters (for example, rotation parameters) 🔧 🔧\n",
        "\n",
        "<div style=\"line-height:150%;\">\n",
        "    <br>\n",
        "</div>\n",
        "\n",
        "➡️ This procedure is repeated until some convergence criteria is hopefully met.\n",
        "\n",
        "<div style=\"line-height:150%;\">\n",
        "    <br>\n",
        "</div>\n",
        "\n",
        "🤓🤓If you are willing to learn more about VQAs, we strongly recommend this [review](https://www.nature.com/articles/s42254-021-00348-9) 🤓🤓.\n",
        "\n",
        "<div style=\"line-height:150%;\">\n",
        "    <br>\n",
        "</div>\n",
        "\n",
        "## Cost function kinds\n",
        "<div style=\"line-height:150%;\">\n",
        "    <br>\n",
        "</div>\n",
        "➡️ While in physics we often care about finding the *ground-state of a Hamiltonian*, the VQA framework is quite versatil. In turn, assuming one can encode a classical problem into the cost function, minizing such will constitute an attempt to solve the problem. Attempts to do so range from [image classification problems](https://arxiv.org/abs/2304.09224) to [function approximation ones](https://arxiv.org/abs/2310.07528).\n",
        "\n",
        "<div style=\"line-height:150%;\">\n",
        "    <br>\n",
        "</div>\n",
        "\n",
        "➡️ Whether or not VQAs can offer a quantum advantage with respect to classical methods, and particularly for classical information processing, is an open question that many people are currently tackling.\n",
        "<div style=\"line-height:150%;\">\n",
        "    <br>\n",
        "</div>\n",
        "\n",
        "## Classical optimization\n",
        "\n",
        "➡️ In this regard, many shortcomings for VQAs have been shown in the last years. One that deserves to be mentioned is the Barren Plateau problem, a genuinly quantum phenomena.\n",
        "<div style=\"line-height:150%;\">\n",
        "    <br>\n",
        "</div>\n",
        "➡️ If a quantum circuit exhibits a random plateau, its gradient is exponentially small on average over all possible circuit's configuration. This implies that the VQA cannot be trained... 😥😥\n",
        "}<div style=\"line-height:150%;\">\n",
        "    <br>\n",
        "</div>\n",
        "\n",
        "➡️ However, hope is not lost! There are quantum architectures which have been shown [not to present Barren Plateaus](https://journals.aps.org/prx/abstract/10.1103/PhysRevX.11.041011), and some techniques have been proposed by the community in order to avoid them. This is yet another issue that we are currently tackling!\n",
        "\n",
        "<div style=\"line-height:150%;\">\n",
        "    <br>\n",
        "</div>\n",
        "\n",
        "🤓🤓If you are willing to learn more about Barren Plateaus, [this](https://pennylane.ai/qml/demos/tutorial_barren_plateaus/) is a very good starting point; and also [the seminal paper](https://arxiv.org/abs/1803.11173) of the Google team 🤓🤓."
      ],
      "metadata": {
        "id": "1dQYRuSGKLPP"
      }
    },
    {
      "cell_type": "markdown",
      "source": [
        "# PennyLane in action!"
      ],
      "metadata": {
        "id": "eHyDN1bzre2-"
      }
    },
    {
      "cell_type": "code",
      "source": [
        "import pennylane as qml\n",
        "from pennylane import numpy as np\n",
        "from pennylane.templates import RandomLayers\n",
        "import tensorflow as tf\n",
        "from tensorflow import keras\n",
        "import matplotlib.pyplot as plt\n",
        "import os\n",
        "\n",
        "import torch\n",
        "from torch import cat, no_grad, manual_seed\n",
        "from torch.utils.data import DataLoader\n",
        "from torchvision import datasets, transforms\n",
        "import torch.optim as optim\n",
        "import torch.nn.functional as F\n",
        "\n",
        "\n",
        "\n",
        "(x_train, y_train), (x_test, y_test) = tf.keras.datasets.mnist.load_data()\n",
        "x_train, x_test = x_train[..., np.newaxis]/255.0, x_test[..., np.newaxis]/255.0\n",
        "\n",
        "def filter_01(x, y):\n",
        "    keep = (y == 0) | (y == 1)\n",
        "    x, y = x[keep], y[keep]\n",
        "    return x,y\n",
        "\n",
        "x_train, y_train = filter_01(x_train, y_train)\n",
        "x_test, y_test = filter_01(x_test, y_test)\n",
        "\n",
        "print(\"Number of filtered training examples:\", len(x_train))\n",
        "print(\"Number of filtered test examples:\", len(x_test))\n",
        "\n",
        "#### We 'compress' the image to make it digestible by a quantum circuit\n",
        "x_train_small = tf.image.resize(x_train, (4,4))\n",
        "x_test_small = tf.image.resize(x_test, (4,4))\n",
        "\n",
        "### Encoding: each pixel is a qubit, and the state depends on the value of the pixel (above or below 0.5). We can do this quantumly by applying an X\n",
        "THRESHOLD = 0.5\n",
        "x_train_bin = np.array(x_train_small > THRESHOLD, dtype=np.float32)\n",
        "x_test_bin = np.array(x_test_small > THRESHOLD, dtype=np.float32)\n",
        "\n",
        "\n",
        "\n",
        "\n",
        "n_qubits = 16 #16 + 1, which is the control\n",
        "dev = qml.device(\"default.qubit\", wires=n_qubits)\n",
        "@qml.qnode(dev)\n",
        "def qnode(inputs, weights):\n",
        "    #encoding\n",
        "    for q, value in enumerate(inputs):\n",
        "        qml.RY(np.pi*value,q)\n",
        "\n",
        "    ## Trainable model\n",
        "    ind=0\n",
        "    for q, w in enumerate(range(n_qubits)):\n",
        "        qml.RY(weights[ind],q)\n",
        "        ind+=1\n",
        "    for q, w in enumerate(range(n_qubits)):\n",
        "        qml.RY(weights[ind],q)\n",
        "        ind+=1\n",
        "        qml.RZ(weights[ind],q)\n",
        "        ind+=1\n",
        "        qml.CNOT([q,(q+1)%n_qubits])\n",
        "    return [qml.expval(qml.PauliZ(wires=q)) for q in range(n_qubits)]\n",
        "\n",
        "random_params = np.random.randn(48)\n",
        "print(qml.draw(qnode)(x_train_bin[0].reshape(16),  random_params ))\n",
        "\n",
        "\n",
        "\n",
        "class Net(Module):\n",
        "    def __init__(self, qnn,nparams=32):\n",
        "        super().__init__()\n",
        "        self.qnn = qml.qnn.TorchLayer(qnode, {\"weights\":(nparams,)})\n",
        "        self.l1 = torch.nn.Linear(16,1)\n",
        "\n",
        "    def forward(self, x):\n",
        "        x = self.qnn(x)  # apply QNN\n",
        "        x = torch.sigmoid(self.l1(x))\n",
        "        return x\n",
        "\n",
        "\n",
        "    def pred_batch(self, batch):\n",
        "        preds = []\n",
        "        for img in batch:\n",
        "            preds.append(self(img))\n",
        "        return torch.stack(preds).squeeze()\n",
        "\n",
        "\n",
        "ids = np.random.choice(list(range(1000)), 10)\n",
        "images_batch = torch.stack([images[id] for id in ids])\n",
        "labels_batch = torch.stack([labels[id] for id in ids])\n",
        "qmodel = Net(qnode,nparams=48)\n",
        "preds_batch = qmodel.pred_batch(images_batch)\n",
        "\n",
        "def cost(y_true, y_pred):\n",
        "    return torch.mean((y_true-(y_pred + 1.)/2)**2)\n",
        "\n",
        "qmodel = Net(qnode,nparams=48)\n",
        "optimizer = optim.Adam(qmodel.parameters(), lr=0.01)\n",
        "\n",
        "n_samples = 1000\n",
        "images = x_train_bin[:n_samples]\n",
        "images=torch.tensor(images).reshape(len(images),16)\n",
        "labels = torch.tensor(y_train[:n_samples])\n",
        "\n",
        "total_loss = []\n",
        "for iteration in range(100):\n",
        "    ids = np.random.choice(list(range(1000)), 10)\n",
        "    images_batch = torch.stack([images[id] for id in ids])\n",
        "    labels_batch = torch.stack([labels[id] for id in ids])\n",
        "\n",
        "    optimizer.zero_grad(set_to_none=True)  # Initialize gradient\n",
        "    preds_batch = qmodel.pred_batch(images_batch)\n",
        "    loss = cost(labels_batch,preds_batch)\n",
        "    loss.backward()  # Backward pass\n",
        "    total_loss.append(loss.item())  # Store loss\n",
        "    print(loss)\n",
        "\n",
        "\n",
        "#\n"
      ],
      "metadata": {
        "id": "wtzlv8a3qr1e"
      },
      "execution_count": null,
      "outputs": []
    },
    {
      "cell_type": "markdown",
      "source": [
        "As we see, defining, training and evaluating quantum circuits using PennyLane is quite simple! Having this training loop will allow you to inspect other models & situations that might\n",
        "\n",
        "\n",
        "<div style=\"line-height:150%;\">\n",
        "    <br>\n",
        "</div>\n",
        "\n",
        "Having trained this (peculiar) quantum model, our tutorial comes to an end! 😥\n",
        "\n",
        "\n",
        "<div style=\"line-height:150%;\">\n",
        "    <br>\n",
        "</div>\n",
        "\n",
        "While we covered the basics, many topics were left untouched. We hope this tutorial to be the first of a long series! 🚀🚀"
      ],
      "metadata": {
        "id": "YA1MakUCjoeo"
      }
    }
  ]
}